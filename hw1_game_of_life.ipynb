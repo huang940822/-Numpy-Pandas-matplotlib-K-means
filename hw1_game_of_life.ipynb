{
 "cells": [
  {
   "cell_type": "markdown",
   "metadata": {},
   "source": [
    "### Conway’s Game of Life\n",
    "Conway’s Game of Life (https://en.wikipedia.org/wiki/Conway%27s_Game_of_Life) is a classic example of a cellular automaton devised by mathematician John Conway. The game is a classic example of how simple rules can give rise to complex behavior. The game is played on an m-by-n board, which we will represent as an m-by-n matrix. The game proceeds in steps. At any given time, each cell of the board (i.e., entry of our matrix), is either alive (which we will represent as a 1) or dead (which we will represent as a 0). At each step, the board evolves according to a few simple rules:\n",
    "\n",
    "• A live cell with fewer than two live neighbors becomes a dead cell.   \n",
    "• A live cell with more than three live neighbors becomes a dead cell.   \n",
    "• A live cell with two or three live neighbors remains alive.  \n",
    "• A dead cell with exactly three live neighbors becomes alive.  \n",
    "• All other dead cells remain dead.  \n",
    "\n",
    "   The neighbors of a cell are the 8 cells adjacent to it, i.e., left, right, above, below, upper- left, lower-left, upper-right and lower-right. We will follow the convention that the board is toroidal, so that using matrix-like notation (i.e., the cell (0,0) is in the upper-left of the board and the first coordinate specifies a row), the upper neighbor of the cell (0,0) is (m − 1,0), the right neighbor of the cell (m − 1,n − 1) is (m − 1,0), etc. That is, the board “wraps around”. \n",
    "   \n",
    "   Note: you are not required to use this matrix-like indexing. It’s just what I chose to use to explain the toroidal property."
   ]
  },
  {
   "cell_type": "code",
   "execution_count": 1,
   "metadata": {},
   "outputs": [],
   "source": [
    "import numpy as np\n",
    "import matplotlib.pyplot as plt\n",
    "import scipy.stats\n",
    "\n",
    "import copy\n",
    "from matplotlib import animation\n",
    "import time\n",
    "from IPython.display import display,clear_output\n",
    "\n",
    "%matplotlib inline"
   ]
  },
  {
   "cell_type": "markdown",
   "metadata": {},
   "source": [
    "1. Write a function <span style=\"font-family:Courier; font-size:1em;\">is_valid_board</span> that takes an m-by-n numpy array (i.e., an ndarray) as its only argument and returns a Python Boolean that is True if and only if the argument is a valid representation of a Game of Life board. A valid board is any two-dimensional numpy ndarray with all entries either 0.0 and 1.0."
   ]
  },
  {
   "cell_type": "code",
   "execution_count": 2,
   "metadata": {},
   "outputs": [],
   "source": [
    "import numpy as np\n",
    "\n",
    "#檢查傳入數組是否標準\n",
    "def is_valid_board(board):\n",
    "    if not isinstance(board, np.ndarray) or board.ndim != 2:\n",
    "        return False\n",
    "    \n",
    "    if not np.all(np.isin(board, [0.0, 1.0])):\n",
    "        return False\n",
    "    \n",
    "    return True\n"
   ]
  },
  {
   "cell_type": "code",
   "execution_count": 3,
   "metadata": {},
   "outputs": [
    {
     "data": {
      "text/plain": [
       "True"
      ]
     },
     "execution_count": 3,
     "metadata": {},
     "output_type": "execute_result"
    }
   ],
   "source": [
    "import numpy as np\n",
    "a = np.array([[0,1,0,1], [1,0,0,1], [1,1,0,0]])\n",
    "is_valid_board(a)"
   ]
  },
  {
   "cell_type": "code",
   "execution_count": 4,
   "metadata": {},
   "outputs": [
    {
     "data": {
      "text/plain": [
       "False"
      ]
     },
     "execution_count": 4,
     "metadata": {},
     "output_type": "execute_result"
    }
   ],
   "source": [
    "import numpy as np\n",
    "b = np.array([[0,1,1,1], [0,0,0,3], [1,1,0,0]])\n",
    "is_valid_board(b)"
   ]
  },
  {
   "cell_type": "markdown",
   "metadata": {},
   "source": [
    "2. Write a function called <span style=\"font-family:Courier; font-size:1em;\">gol_step</span> that takes an m-by-n numpy array as its argument and returns another numpy array of the same size (i.e., also m-by-n), corresponding to the board at the next step of the game. \n",
    "\n",
    "    Your function should perform error checking to ensure that the provided argument is a valid Game of Life board."
   ]
  },
  {
   "cell_type": "code",
   "execution_count": 5,
   "metadata": {},
   "outputs": [],
   "source": [
    "def gol_step(a):\n",
    "    \n",
    "    if not is_valid_board(a):\n",
    "        return False\n",
    "    \n",
    "    m, n = a.shape#獲取棋盤大小\n",
    "    \n",
    "    next_board = np.zeros((m, n), dtype=int)#創建棋盤\n",
    "    \n",
    "    neighbors = [(-1, -1), (-1, 0), (-1, 1), \n",
    "                 (0, -1),          (0, 1), \n",
    "                 (1, -1), (1, 0),  (1, 1)]#當前細胞的8個鄰居的座標\n",
    "    \n",
    "    for i in range(m):#雙循環遍歷所有格子\n",
    "        for j in range(n):\n",
    "            live_neighbors = 0\n",
    "            for di, dj in neighbors:#計算鄰居絕對座標\n",
    "                ni, nj = (i + di) % m, (j + dj) % n\n",
    "                live_neighbors += a[ni, nj]\n",
    "            \n",
    "            if a[i, j] == 1:#判斷當前是否是活細胞\n",
    "                if live_neighbors < 2 or live_neighbors > 3:#若活鄰居小於2或大於3，則細胞死\n",
    "                    next_board[i, j] = 0  \n",
    "                else:\n",
    "                    next_board[i, j] = 1#翻之活\n",
    "            else: \n",
    "                if live_neighbors == 3:#若死細胞周圍有3個活細胞，則細胞活\n",
    "                    next_board[i, j] = 1 \n",
    "    \n",
    "    return next_board"
   ]
  },
  {
   "cell_type": "code",
   "execution_count": 6,
   "metadata": {},
   "outputs": [],
   "source": [
    "import numpy as np\n",
    "x = np.array([[0, 1, 0, 0, 0],\n",
    " [1, 0, 0, 1, 0],\n",
    " [1, 0, 0, 0, 1],\n",
    " [0, 1, 0, 0, 0],\n",
    " [0, 0, 0, 0, 0]])\n",
    "y = gol_step(x)\n"
   ]
  },
  {
   "cell_type": "markdown",
   "metadata": {},
   "source": [
    "3. Write a function called draw_gol_board that takes an m-by-n numpy array (i.e., an ndarray) as its only argument and draws the board as an m-by-n set of tiles, colored black or white correspond to whether the corresponding cell is alive or dead, respectively. Your plot should not have any grid lines, nor should it have any axis labels or axis ticks. \n",
    "\n",
    "    Hint: see the functions plt.xticks() and plt.yticks() for changing axis ticks. \n",
    "    \n",
    "    Hint: you may find the function plt.get_cmap to be useful for working with the matplotlib Colormap objects."
   ]
  },
  {
   "cell_type": "code",
   "execution_count": 7,
   "metadata": {},
   "outputs": [],
   "source": [
    "import numpy as np\n",
    "import matplotlib.pyplot as plt\n",
    "\n",
    "#畫出圖形\n",
    "def draw_gol_board(a):\n",
    "    if not is_valid_board(a):\n",
    "        return False\n",
    "    \n",
    "    m, n = a.shape\n",
    "    plt.figure(figsize=(2.5, 2.5))\n",
    "    plt.imshow(a, cmap='binary', interpolation='none', extent=[0, n, 0, m])#binary表示0為白，1為黑\n",
    "\n",
    "    plt.axis('off')\n",
    "    plt.grid(False)\n",
    "    \n",
    "    plt.subplots_adjust(left=0, right=1, top=1, bottom=0)\n",
    "    plt.gca().spines['top'].set_visible(False)\n",
    "    plt.gca().spines['right'].set_visible(False)\n",
    "    plt.gca().spines['bottom'].set_visible(False)\n",
    "    plt.gca().spines['left'].set_visible(False)\n",
    "    \n",
    "    plt.show()\n",
    "    "
   ]
  },
  {
   "cell_type": "code",
   "execution_count": 8,
   "metadata": {},
   "outputs": [
    {
     "data": {
      "text/plain": [
       "array([[0, 1, 0, 0, 0],\n",
       "       [1, 0, 0, 1, 0],\n",
       "       [1, 0, 0, 0, 1],\n",
       "       [0, 1, 0, 0, 0],\n",
       "       [0, 0, 0, 0, 0]])"
      ]
     },
     "execution_count": 8,
     "metadata": {},
     "output_type": "execute_result"
    }
   ],
   "source": [
    "x"
   ]
  },
  {
   "cell_type": "code",
   "execution_count": 9,
   "metadata": {},
   "outputs": [
    {
     "data": {
      "image/png": "[encoded data removed]",
      "text/plain": [
       "<Figure size 250x250 with 1 Axes>"
      ]
     },
     "metadata": {},
     "output_type": "display_data"
    }
   ],
   "source": [
    "board = draw_gol_board(x)"
   ]
  },
  {
   "cell_type": "markdown",
   "metadata": {},
   "source": [
    "4.  Create a 20-by-20 numpy array corresponding to a Game of Life board in which all cells are dead, with the exception that the top-left 5-by-5 section of the board looks like this:\n",
    "    \n",
    "    Plot this 20-by-20 board using draw_gol_board."
   ]
  },
  {
   "cell_type": "code",
   "execution_count": 10,
   "metadata": {},
   "outputs": [],
   "source": [
    "import numpy as np\n",
    "\n",
    "dead = np.zeros((20,20),dtype=int)\n",
    "\n",
    "top_left = np.array([[0,0,0,0,0],\n",
    "                     [0,0,1,0,0],\n",
    "                     [0,0,0,1,0],\n",
    "                     [0,1,1,1,0],\n",
    "                     [0,0,0,0,0]])\n",
    "\n",
    "dead[:5,:5] = top_left#替換左上角的5X5矩陣"
   ]
  },
  {
   "cell_type": "code",
   "execution_count": 11,
   "metadata": {},
   "outputs": [
    {
     "data": {
      "image/png": "[encoded data removed]",
      "text/plain": [
       "<Figure size 250x250 with 1 Axes>"
      ]
     },
     "metadata": {},
     "output_type": "display_data"
    }
   ],
   "source": [
    "draw_gol_board(dead)"
   ]
  },
  {
   "cell_type": "markdown",
   "metadata": {},
   "source": [
    "5. Generate a plot with 5 subplots, arranged in a 5-by-1 grid, showing the first five steps of the Game of Life when started with the board you just created, with the steps ordered from top to bottom, The figure in the 5-by-5 sub-board above is called a glider, and it is interesting in that, as you can see from your plot, it seems to move along the board as you run the game."
   ]
  },
  {
   "cell_type": "code",
   "execution_count": 12,
   "metadata": {},
   "outputs": [
    {
     "data": {
      "image/png": "[encoded data removed]",
      "text/plain": [
       "<Figure size 500x1000 with 5 Axes>"
      ]
     },
     "metadata": {},
     "output_type": "display_data"
    }
   ],
   "source": [
    "import numpy as np\n",
    "import matplotlib.pyplot as plt\n",
    "\n",
    "fig, axs = plt.subplots(5, 1, figsize=(5, 10))\n"
   ]
  },
  {
   "cell_type": "code",
   "execution_count": 13,
   "metadata": {},
   "outputs": [
    {
     "data": {
      "image/png": "[encoded data removed]",
      "text/plain": [
       "<Figure size 250x250 with 1 Axes>"
      ]
     },
     "metadata": {},
     "output_type": "display_data"
    },
    {
     "data": {
      "image/png": "[encoded data removed]",
      "text/plain": [
       "<Figure size 250x250 with 1 Axes>"
      ]
     },
     "metadata": {},
     "output_type": "display_data"
    },
    {
     "data": {
      "image/png": "[encoded data removed]",
      "text/plain": [
       "<Figure size 250x250 with 1 Axes>"
      ]
     },
     "metadata": {},
     "output_type": "display_data"
    },
    {
     "data": {
      "image/png": "[encoded data removed]",
      "text/plain": [
       "<Figure size 250x250 with 1 Axes>"
      ]
     },
     "metadata": {},
     "output_type": "display_data"
    },
    {
     "data": {
      "image/png": "[encoded data removed]",
      "text/plain": [
       "<Figure size 250x250 with 1 Axes>"
      ]
     },
     "metadata": {},
     "output_type": "display_data"
    }
   ],
   "source": [
    "import numpy as np\n",
    "import matplotlib.pyplot as plt\n",
    "current_board = dead\n",
    "for step in range(5):#把dead的板拿去運行五次\n",
    "    draw_gol_board(current_board)\n",
    "    axs[step].imshow(current_board, cmap='binary', interpolation='none')\n",
    "    axs[step].axis('off')\n",
    "    current_board = gol_step(current_board)\n",
    "\n",
    "plt.show()"
   ]
  },
  {
   "cell_type": "markdown",
   "metadata": {},
   "source": [
    "6. Create a function called draw_animation that takes two arguments, a Game of Life board and a number of steps, and generates an animation of the game as it runs for the given number of steps."
   ]
  },
  {
   "cell_type": "code",
   "execution_count": 14,
   "metadata": {},
   "outputs": [],
   "source": [
    "\n",
    "import numpy as np\n",
    "import matplotlib.pyplot as plt\n",
    "from matplotlib.animation import FuncAnimation\n",
    "\n",
    "def draw_animation(M, n):\n",
    "    if not is_valid_board(M):\n",
    "        return False\n",
    "    \n",
    "    fig, ax = plt.subplots()\n",
    "    ax.axis('off')\n",
    "\n",
    "    init = ax.imshow(M, cmap='binary', interpolation='none')\n",
    "\n",
    "    #更新禎數\n",
    "    def update(frame):\n",
    "        nonlocal M\n",
    "        M = gol_step(M)\n",
    "        init.set_array(M)\n",
    "        return init,\n",
    "\n",
    "    ani = FuncAnimation(fig, update, frames=n, interval=500, blit=True)#做出動畫\n",
    "    plt.show()\n"
   ]
  },
  {
   "cell_type": "code",
   "execution_count": 22,
   "metadata": {},
   "outputs": [
    {
     "data": {
      "image/png": "[encoded data removed]",
      "text/plain": [
       "<Figure size 640x480 with 1 Axes>"
      ]
     },
     "metadata": {},
     "output_type": "display_data"
    }
   ],
   "source": [
    "draw_animation(a,100)"
   ]
  },
  {
   "cell_type": "code",
   "execution_count": null,
   "metadata": {},
   "outputs": [],
   "source": []
  }
 ],
 "metadata": {
  "kernelspec": {
   "display_name": "Python 3",
   "language": "python",
   "name": "python3"
  },
  "language_info": {
   "codemirror_mode": {
    "name": "ipython",
    "version": 3
   },
   "file_extension": ".py",
   "mimetype": "text/x-python",
   "name": "python",
   "nbconvert_exporter": "python",
   "pygments_lexer": "ipython3",
   "version": "3.12.5"
  }
 },
 "nbformat": 4,
 "nbformat_minor": 2
}
